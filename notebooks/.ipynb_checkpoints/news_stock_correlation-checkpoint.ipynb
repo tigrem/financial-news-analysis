{
 "cells": [
  {
   "cell_type": "code",
   "execution_count": 2,
   "id": "c2b6d93b-be8b-4bae-b984-608815dc9208",
   "metadata": {},
   "outputs": [],
   "source": [
    "# Import necessary libraries\n",
    "import os\n",
    "import pandas as pd\n",
    "import matplotlib.pyplot as plt\n",
    "import warnings\n",
    "os.chdir(r'D:\\10academy\\financial-news-analysis')\n",
    "import sys\n",
    "sys.path.append(os.getcwd()) # Add the current working directory to Python's path\n",
    "from scripts.data_loader import load_stock_data, load_news_data\n",
    "from scripts.sentiment_analysis import analyze_sentiment, aggregate_daily_sentiment\n",
    "from scripts.indicator_calculation import calculate_correlations\n",
    "from scripts.data_visualization import visualize_correlations\n",
    "# Suppress warnings\n",
    "warnings.filterwarnings(\"ignore\")"
   ]
  },
  {
   "cell_type": "code",
   "execution_count": 3,
   "id": "8ea33ec2-f6af-4139-b193-71b6cb702870",
   "metadata": {},
   "outputs": [],
   "source": [
    "# Set the working directory\n",
    "os.chdir(r'D:\\10academy\\financial-news-analysis')\n"
   ]
  },
  {
   "cell_type": "code",
   "execution_count": 4,
   "id": "eb62160d-b4f6-420a-98e8-790d79feddff",
   "metadata": {},
   "outputs": [],
   "source": [
    "# Load stock data\n",
    "stock_data_files = [\n",
    "    'AAPL_historical_data.csv',\n",
    "    'AMZN_historical_data.csv',\n",
    "    'GOOG_historical_data.csv',\n",
    "    'META_historical_data.csv',\n",
    "    'MSFT_historical_data.csv',\n",
    "    'NVDA_historical_data.csv',\n",
    "    'TSLA_historical_data.csv'\n",
    "]"
   ]
  },
  {
   "cell_type": "code",
   "execution_count": 5,
   "id": "d7fc97eb-60a7-4f00-a430-5abfa8c89ed3",
   "metadata": {},
   "outputs": [
    {
     "name": "stdout",
     "output_type": "stream",
     "text": [
      "Loaded stock data for AAPL: (10998, 8)\n",
      "Loaded stock data for AMZN: (6846, 8)\n",
      "Loaded stock data for GOOG: (5020, 8)\n",
      "Loaded stock data for META: (2926, 8)\n",
      "Loaded stock data for MSFT: (9672, 8)\n",
      "Loaded stock data for NVDA: (6421, 8)\n",
      "Loaded stock data for TSLA: (3545, 8)\n",
      "\n",
      "Stock data loading complete.\n"
     ]
    }
   ],
   "source": [
    "stock_data_dir = 'notebooks/data/'\n",
    "stock_data = load_stock_data(stock_data_dir, stock_data_files)"
   ]
  },
  {
   "cell_type": "code",
   "execution_count": 6,
   "id": "e16bd9cb-2721-453b-a328-f360f1884dc6",
   "metadata": {},
   "outputs": [
    {
     "name": "stdout",
     "output_type": "stream",
     "text": [
      "\n",
      "Loaded news data: (1407328, 6)\n"
     ]
    }
   ],
   "source": [
    "# Load news data\n",
    "news_file = 'raw_analyst_ratings.csv'\n",
    "news_data_dir = 'notebooks/data/'\n",
    "news_file_path = os.path.join(news_data_dir, news_file)\n",
    "news_df = load_news_data(news_file_path)\n"
   ]
  },
  {
   "cell_type": "code",
   "execution_count": 7,
   "id": "901c95b8-c7b1-4446-846c-8dc6628216e3",
   "metadata": {},
   "outputs": [
    {
     "name": "stdout",
     "output_type": "stream",
     "text": [
      "\n",
      "Sentiment analysis complete. Sample with sentiment scores:\n",
      "                       date  \\\n",
      "0 2020-06-05 14:30:54+00:00   \n",
      "1 2020-06-03 14:45:20+00:00   \n",
      "2 2020-05-26 08:30:07+00:00   \n",
      "3 2020-05-22 16:45:06+00:00   \n",
      "4 2020-05-22 15:38:59+00:00   \n",
      "\n",
      "                                            headline  sentiment_score  \n",
      "0            Stocks That Hit 52-Week Highs On Friday            0.000  \n",
      "1         Stocks That Hit 52-Week Highs On Wednesday            0.000  \n",
      "2                      71 Biggest Movers From Friday            0.000  \n",
      "3       46 Stocks Moving In Friday's Mid-Day Session            0.000  \n",
      "4  B of A Securities Maintains Neutral on Agilent...            0.296  \n",
      "\n",
      "Aggregated daily sentiment:\n",
      "            avg_sentiment\n",
      "Date                     \n",
      "2009-02-14        0.22630\n",
      "2009-04-27        0.00000\n",
      "2009-04-29        0.00000\n",
      "2009-05-22        0.00000\n",
      "2009-05-27        0.75105\n",
      "\n",
      "Correlation between news sentiment and AAPL daily return: 0.1461\n",
      "\n",
      "Correlation between news sentiment and AMZN daily return: 0.0822\n",
      "\n",
      "Correlation between news sentiment and GOOG daily return: 0.1254\n",
      "\n",
      "Correlation between news sentiment and META daily return: 0.1640\n",
      "\n",
      "Correlation between news sentiment and MSFT daily return: 0.1222\n",
      "\n",
      "Correlation between news sentiment and NVDA daily return: 0.1146\n",
      "\n",
      "Correlation between news sentiment and TSLA daily return: 0.1183\n",
      "\n",
      "Correlation analysis complete.\n"
     ]
    },
    {
     "data": {
      "image/png": "[encoded data removed]",
      "text/plain": [
       "<Figure size 1000x600 with 1 Axes>"
      ]
     },
     "metadata": {},
     "output_type": "display_data"
    },
    {
     "name": "stdout",
     "output_type": "stream",
     "text": [
      "\n",
      "Correlation visualization complete.\n",
      "\n",
      "Analysis complete.\n"
     ]
    }
   ],
   "source": [
    "if news_df is not None:\n",
    "    news_df = analyze_sentiment(news_df)  # Call the new sentiment analysis function\n",
    "    daily_sentiment = aggregate_daily_sentiment(news_df)  # Call the aggregation function\n",
    "\n",
    "    # Calculate correlations\n",
    "    correlation_results = calculate_correlations(stock_data, daily_sentiment)\n",
    "\n",
    "    # Convert to DataFrame for visualization\n",
    "    correlation_df = pd.DataFrame(list(correlation_results.items()), columns=['Stock', 'Correlation'])\n",
    "    visualize_correlations(correlation_df)  # Visualize the correlations\n",
    "\n",
    "print(\"\\nAnalysis complete.\")"
   ]
  },
  {
   "cell_type": "code",
   "execution_count": null,
   "id": "654f100b-330a-4e13-912b-beb8b7d245f9",
   "metadata": {},
   "outputs": [],
   "source": []
  }
 ],
 "metadata": {
  "kernelspec": {
   "display_name": "Python 3 (ipykernel)",
   "language": "python",
   "name": "python3"
  },
  "language_info": {
   "codemirror_mode": {
    "name": "ipython",
    "version": 3
   },
   "file_extension": ".py",
   "mimetype": "text/x-python",
   "name": "python",
   "nbconvert_exporter": "python",
   "pygments_lexer": "ipython3",
   "version": "3.13.3"
  }
 },
 "nbformat": 4,
 "nbformat_minor": 5
}
